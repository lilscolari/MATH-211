{
 "cells": [
  {
   "cell_type": "markdown",
   "id": "721eb755",
   "metadata": {},
   "source": [
    "# Extra Credit - Bitcoin - Cryptocurrencies "
   ]
  },
  {
   "cell_type": "code",
   "execution_count": 1,
   "id": "aede64a9",
   "metadata": {},
   "outputs": [],
   "source": [
    "from datascience import *\n",
    "import numpy as np"
   ]
  },
  {
   "cell_type": "code",
   "execution_count": 2,
   "id": "580e8e01",
   "metadata": {},
   "outputs": [],
   "source": [
    "bcdata = Table().read_table(\"BitcoinDataJunefirst_June26.csv\")"
   ]
  },
  {
   "cell_type": "code",
   "execution_count": 3,
   "id": "5d08ed88",
   "metadata": {},
   "outputs": [
    {
     "data": {
      "text/html": [
       "<table border=\"1\" class=\"dataframe\">\n",
       "    <thead>\n",
       "        <tr>\n",
       "            <th>Date</th> <th>Price</th> <th>Open</th> <th>High</th> <th>Low</th> <th>Vol.</th> <th>Unnamed: 6</th>\n",
       "        </tr>\n",
       "    </thead>\n",
       "    <tbody>\n",
       "        <tr>\n",
       "            <td>Jun 26, 2023</td> <td>30,248.1</td> <td>30,466.3</td> <td>30,645.9</td> <td>29,986.3</td> <td>58.32K </td> <td>nan       </td>\n",
       "        </tr>\n",
       "        <tr>\n",
       "            <td>Jun 25, 2023</td> <td>30,465.3</td> <td>30,533.6</td> <td>31,040.2</td> <td>30,315.8</td> <td>37.12K </td> <td>nan       </td>\n",
       "        </tr>\n",
       "        <tr>\n",
       "            <td>Jun 24, 2023</td> <td>30,533.6</td> <td>30,680.7</td> <td>30,795.3</td> <td>30,269.4</td> <td>38.15K </td> <td>nan       </td>\n",
       "        </tr>\n",
       "        <tr>\n",
       "            <td>Jun 23, 2023</td> <td>30,679.4</td> <td>29,890.2</td> <td>31,395.4</td> <td>29,822.6</td> <td>98.85K </td> <td>nan       </td>\n",
       "        </tr>\n",
       "        <tr>\n",
       "            <td>Jun 22, 2023</td> <td>29,890.5</td> <td>29,992.8</td> <td>30,497.8</td> <td>29,590.4</td> <td>79.22K </td> <td>nan       </td>\n",
       "        </tr>\n",
       "        <tr>\n",
       "            <td>Jun 21, 2023</td> <td>29,996.9</td> <td>28,307.7</td> <td>30,769.5</td> <td>28,270.5</td> <td>143.49K</td> <td>nan       </td>\n",
       "        </tr>\n",
       "        <tr>\n",
       "            <td>Jun 20, 2023</td> <td>28,307.7</td> <td>26,845.9</td> <td>28,393.0</td> <td>26,665.5</td> <td>100.55K</td> <td>nan       </td>\n",
       "        </tr>\n",
       "        <tr>\n",
       "            <td>Jun 19, 2023</td> <td>26,845.9</td> <td>26,339.7</td> <td>27,029.7</td> <td>26,295.1</td> <td>46.45K </td> <td>nan       </td>\n",
       "        </tr>\n",
       "        <tr>\n",
       "            <td>Jun 18, 2023</td> <td>26,339.7</td> <td>26,515.0</td> <td>26,679.3</td> <td>26,290.6</td> <td>27.31K </td> <td>nan       </td>\n",
       "        </tr>\n",
       "        <tr>\n",
       "            <td>Jun 17, 2023</td> <td>26,515.0</td> <td>26,341.3</td> <td>26,767.3</td> <td>26,183.5</td> <td>35.86K </td> <td>nan       </td>\n",
       "        </tr>\n",
       "    </tbody>\n",
       "</table>\n",
       "<p>... (22 rows omitted)</p>"
      ],
      "text/plain": [
       "Date         | Price    | Open     | High     | Low      | Vol.    | Unnamed: 6\n",
       "Jun 26, 2023 | 30,248.1 | 30,466.3 | 30,645.9 | 29,986.3 | 58.32K  | nan\n",
       "Jun 25, 2023 | 30,465.3 | 30,533.6 | 31,040.2 | 30,315.8 | 37.12K  | nan\n",
       "Jun 24, 2023 | 30,533.6 | 30,680.7 | 30,795.3 | 30,269.4 | 38.15K  | nan\n",
       "Jun 23, 2023 | 30,679.4 | 29,890.2 | 31,395.4 | 29,822.6 | 98.85K  | nan\n",
       "Jun 22, 2023 | 29,890.5 | 29,992.8 | 30,497.8 | 29,590.4 | 79.22K  | nan\n",
       "Jun 21, 2023 | 29,996.9 | 28,307.7 | 30,769.5 | 28,270.5 | 143.49K | nan\n",
       "Jun 20, 2023 | 28,307.7 | 26,845.9 | 28,393.0 | 26,665.5 | 100.55K | nan\n",
       "Jun 19, 2023 | 26,845.9 | 26,339.7 | 27,029.7 | 26,295.1 | 46.45K  | nan\n",
       "Jun 18, 2023 | 26,339.7 | 26,515.0 | 26,679.3 | 26,290.6 | 27.31K  | nan\n",
       "Jun 17, 2023 | 26,515.0 | 26,341.3 | 26,767.3 | 26,183.5 | 35.86K  | nan\n",
       "... (22 rows omitted)"
      ]
     },
     "execution_count": 3,
     "metadata": {},
     "output_type": "execute_result"
    }
   ],
   "source": [
    "bcdata"
   ]
  },
  {
   "cell_type": "code",
   "execution_count": 4,
   "id": "9671568f",
   "metadata": {},
   "outputs": [],
   "source": [
    "bcdata = bcdata.drop(6)"
   ]
  },
  {
   "cell_type": "code",
   "execution_count": 5,
   "id": "495c1896",
   "metadata": {},
   "outputs": [
    {
     "data": {
      "text/html": [
       "<table border=\"1\" class=\"dataframe\">\n",
       "    <thead>\n",
       "        <tr>\n",
       "            <th>Date</th> <th>Price</th> <th>Open</th> <th>High</th> <th>Low</th> <th>Vol.</th>\n",
       "        </tr>\n",
       "    </thead>\n",
       "    <tbody>\n",
       "        <tr>\n",
       "            <td>Jun 26, 2023</td> <td>30,248.1</td> <td>30,466.3</td> <td>30,645.9</td> <td>29,986.3</td> <td>58.32K </td>\n",
       "        </tr>\n",
       "        <tr>\n",
       "            <td>Jun 25, 2023</td> <td>30,465.3</td> <td>30,533.6</td> <td>31,040.2</td> <td>30,315.8</td> <td>37.12K </td>\n",
       "        </tr>\n",
       "        <tr>\n",
       "            <td>Jun 24, 2023</td> <td>30,533.6</td> <td>30,680.7</td> <td>30,795.3</td> <td>30,269.4</td> <td>38.15K </td>\n",
       "        </tr>\n",
       "        <tr>\n",
       "            <td>Jun 23, 2023</td> <td>30,679.4</td> <td>29,890.2</td> <td>31,395.4</td> <td>29,822.6</td> <td>98.85K </td>\n",
       "        </tr>\n",
       "        <tr>\n",
       "            <td>Jun 22, 2023</td> <td>29,890.5</td> <td>29,992.8</td> <td>30,497.8</td> <td>29,590.4</td> <td>79.22K </td>\n",
       "        </tr>\n",
       "        <tr>\n",
       "            <td>Jun 21, 2023</td> <td>29,996.9</td> <td>28,307.7</td> <td>30,769.5</td> <td>28,270.5</td> <td>143.49K</td>\n",
       "        </tr>\n",
       "        <tr>\n",
       "            <td>Jun 20, 2023</td> <td>28,307.7</td> <td>26,845.9</td> <td>28,393.0</td> <td>26,665.5</td> <td>100.55K</td>\n",
       "        </tr>\n",
       "        <tr>\n",
       "            <td>Jun 19, 2023</td> <td>26,845.9</td> <td>26,339.7</td> <td>27,029.7</td> <td>26,295.1</td> <td>46.45K </td>\n",
       "        </tr>\n",
       "        <tr>\n",
       "            <td>Jun 18, 2023</td> <td>26,339.7</td> <td>26,515.0</td> <td>26,679.3</td> <td>26,290.6</td> <td>27.31K </td>\n",
       "        </tr>\n",
       "        <tr>\n",
       "            <td>Jun 17, 2023</td> <td>26,515.0</td> <td>26,341.3</td> <td>26,767.3</td> <td>26,183.5</td> <td>35.86K </td>\n",
       "        </tr>\n",
       "    </tbody>\n",
       "</table>\n",
       "<p>... (22 rows omitted)</p>"
      ],
      "text/plain": [
       "Date         | Price    | Open     | High     | Low      | Vol.\n",
       "Jun 26, 2023 | 30,248.1 | 30,466.3 | 30,645.9 | 29,986.3 | 58.32K\n",
       "Jun 25, 2023 | 30,465.3 | 30,533.6 | 31,040.2 | 30,315.8 | 37.12K\n",
       "Jun 24, 2023 | 30,533.6 | 30,680.7 | 30,795.3 | 30,269.4 | 38.15K\n",
       "Jun 23, 2023 | 30,679.4 | 29,890.2 | 31,395.4 | 29,822.6 | 98.85K\n",
       "Jun 22, 2023 | 29,890.5 | 29,992.8 | 30,497.8 | 29,590.4 | 79.22K\n",
       "Jun 21, 2023 | 29,996.9 | 28,307.7 | 30,769.5 | 28,270.5 | 143.49K\n",
       "Jun 20, 2023 | 28,307.7 | 26,845.9 | 28,393.0 | 26,665.5 | 100.55K\n",
       "Jun 19, 2023 | 26,845.9 | 26,339.7 | 27,029.7 | 26,295.1 | 46.45K\n",
       "Jun 18, 2023 | 26,339.7 | 26,515.0 | 26,679.3 | 26,290.6 | 27.31K\n",
       "Jun 17, 2023 | 26,515.0 | 26,341.3 | 26,767.3 | 26,183.5 | 35.86K\n",
       "... (22 rows omitted)"
      ]
     },
     "execution_count": 5,
     "metadata": {},
     "output_type": "execute_result"
    }
   ],
   "source": [
    "bcdata"
   ]
  },
  {
   "cell_type": "code",
   "execution_count": 6,
   "id": "258b5eaf",
   "metadata": {},
   "outputs": [
    {
     "data": {
      "text/plain": [
       "str"
      ]
     },
     "execution_count": 6,
     "metadata": {},
     "output_type": "execute_result"
    }
   ],
   "source": [
    "type(bcdata.column('Low').item(0))"
   ]
  },
  {
   "cell_type": "code",
   "execution_count": 7,
   "id": "891ea078",
   "metadata": {},
   "outputs": [
    {
     "data": {
      "text/plain": [
       "'29,986.3'"
      ]
     },
     "execution_count": 7,
     "metadata": {},
     "output_type": "execute_result"
    }
   ],
   "source": [
    "l = bcdata.column('Low').item(0)\n",
    "l"
   ]
  },
  {
   "cell_type": "markdown",
   "id": "da875ea5",
   "metadata": {},
   "source": [
    "The function <b>convert_to_float</b> eliminates the comma from a \n",
    "given string and subsequently transforms the string into a floating-point number"
   ]
  },
  {
   "cell_type": "code",
   "execution_count": 8,
   "id": "9bb801c4",
   "metadata": {},
   "outputs": [],
   "source": [
    "def convert_to_float(s):\n",
    "    valid_chars = set('0123456789,.')\n",
    "    #It chacks if the given string contains only numbers, periods, and/or commas:\n",
    "    if set(s) <= valid_chars:\n",
    "        return float(s.replace(\",\",\"\"))\n",
    "    else:\n",
    "        print (\"Cannot convert to the floating point! \")"
   ]
  },
  {
   "cell_type": "markdown",
   "id": "cfce80c5",
   "metadata": {},
   "source": [
    "<b>set()</b> \n",
    "Sets are used to store multiple items in a single variable.<br>\n",
    "Set is one of 4 built-in data types in Python used to store collections of data, the other 3 are List, Tuple, and Dictionary, all with different qualities and usage.<br>\n",
    "<b>Set only stores a value once even if it is inserted more than once. </b>\n"
   ]
  },
  {
   "cell_type": "code",
   "execution_count": 9,
   "id": "51d3add7",
   "metadata": {},
   "outputs": [
    {
     "data": {
      "text/plain": [
       "{'1', '2', '3'}"
      ]
     },
     "execution_count": 9,
     "metadata": {},
     "output_type": "execute_result"
    }
   ],
   "source": [
    "set(\"111112223232\")"
   ]
  },
  {
   "cell_type": "code",
   "execution_count": 10,
   "id": "87c5f83f",
   "metadata": {},
   "outputs": [
    {
     "data": {
      "text/plain": [
       "{',', 'H', 'e', 'l', 'o'}"
      ]
     },
     "execution_count": 10,
     "metadata": {},
     "output_type": "execute_result"
    }
   ],
   "source": [
    "set(\"Hello,\")"
   ]
  },
  {
   "cell_type": "code",
   "execution_count": 11,
   "id": "7d43c805",
   "metadata": {},
   "outputs": [
    {
     "data": {
      "text/plain": [
       "29986.3"
      ]
     },
     "execution_count": 11,
     "metadata": {},
     "output_type": "execute_result"
    }
   ],
   "source": [
    "convert_to_float(bcdata.column('Low').item(0))"
   ]
  },
  {
   "cell_type": "code",
   "execution_count": 12,
   "id": "57fd0213",
   "metadata": {},
   "outputs": [],
   "source": [
    "h= bcdata.apply(convert_to_float,\"High\")"
   ]
  },
  {
   "cell_type": "code",
   "execution_count": 13,
   "id": "bf40ea83",
   "metadata": {},
   "outputs": [],
   "source": [
    "l = bcdata.apply(convert_to_float,\"Low\")"
   ]
  },
  {
   "cell_type": "code",
   "execution_count": 14,
   "id": "d4e35520",
   "metadata": {},
   "outputs": [
    {
     "data": {
      "text/plain": [
       "array([  659.6,   724.4,   525.9,  1572.8,   907.4,  2499. ,  1727.5,\n",
       "         734.6,   388.7,   583.8,  1196.8,   894.8,  1204.3,   702.5,\n",
       "         445.7,   529.3,  1056.8,   447.2,   553.1,  1201. ,  1899.6,\n",
       "        1688. ,   454.1,   386.1,   758.1,   678.6,   959.9,   449.8,\n",
       "         882.4,  1393.4,   291.7,   581.6])"
      ]
     },
     "execution_count": 14,
     "metadata": {},
     "output_type": "execute_result"
    }
   ],
   "source": [
    "h-l"
   ]
  },
  {
   "cell_type": "code",
   "execution_count": 15,
   "id": "4cb73ad2",
   "metadata": {},
   "outputs": [
    {
     "data": {
      "text/html": [
       "<table border=\"1\" class=\"dataframe\">\n",
       "    <thead>\n",
       "        <tr>\n",
       "            <th>Date</th> <th>Price</th> <th>Open</th> <th>High</th> <th>Low</th> <th>Vol.</th> <th>daily change</th>\n",
       "        </tr>\n",
       "    </thead>\n",
       "    <tbody>\n",
       "        <tr>\n",
       "            <td>Jun 26, 2023</td> <td>30,248.1</td> <td>30,466.3</td> <td>30,645.9</td> <td>29,986.3</td> <td>58.32K </td> <td>659.6       </td>\n",
       "        </tr>\n",
       "        <tr>\n",
       "            <td>Jun 25, 2023</td> <td>30,465.3</td> <td>30,533.6</td> <td>31,040.2</td> <td>30,315.8</td> <td>37.12K </td> <td>724.4       </td>\n",
       "        </tr>\n",
       "        <tr>\n",
       "            <td>Jun 24, 2023</td> <td>30,533.6</td> <td>30,680.7</td> <td>30,795.3</td> <td>30,269.4</td> <td>38.15K </td> <td>525.9       </td>\n",
       "        </tr>\n",
       "        <tr>\n",
       "            <td>Jun 23, 2023</td> <td>30,679.4</td> <td>29,890.2</td> <td>31,395.4</td> <td>29,822.6</td> <td>98.85K </td> <td>1572.8      </td>\n",
       "        </tr>\n",
       "        <tr>\n",
       "            <td>Jun 22, 2023</td> <td>29,890.5</td> <td>29,992.8</td> <td>30,497.8</td> <td>29,590.4</td> <td>79.22K </td> <td>907.4       </td>\n",
       "        </tr>\n",
       "        <tr>\n",
       "            <td>Jun 21, 2023</td> <td>29,996.9</td> <td>28,307.7</td> <td>30,769.5</td> <td>28,270.5</td> <td>143.49K</td> <td>2499        </td>\n",
       "        </tr>\n",
       "        <tr>\n",
       "            <td>Jun 20, 2023</td> <td>28,307.7</td> <td>26,845.9</td> <td>28,393.0</td> <td>26,665.5</td> <td>100.55K</td> <td>1727.5      </td>\n",
       "        </tr>\n",
       "        <tr>\n",
       "            <td>Jun 19, 2023</td> <td>26,845.9</td> <td>26,339.7</td> <td>27,029.7</td> <td>26,295.1</td> <td>46.45K </td> <td>734.6       </td>\n",
       "        </tr>\n",
       "        <tr>\n",
       "            <td>Jun 18, 2023</td> <td>26,339.7</td> <td>26,515.0</td> <td>26,679.3</td> <td>26,290.6</td> <td>27.31K </td> <td>388.7       </td>\n",
       "        </tr>\n",
       "        <tr>\n",
       "            <td>Jun 17, 2023</td> <td>26,515.0</td> <td>26,341.3</td> <td>26,767.3</td> <td>26,183.5</td> <td>35.86K </td> <td>583.8       </td>\n",
       "        </tr>\n",
       "    </tbody>\n",
       "</table>\n",
       "<p>... (22 rows omitted)</p>"
      ],
      "text/plain": [
       "Date         | Price    | Open     | High     | Low      | Vol.    | daily change\n",
       "Jun 26, 2023 | 30,248.1 | 30,466.3 | 30,645.9 | 29,986.3 | 58.32K  | 659.6\n",
       "Jun 25, 2023 | 30,465.3 | 30,533.6 | 31,040.2 | 30,315.8 | 37.12K  | 724.4\n",
       "Jun 24, 2023 | 30,533.6 | 30,680.7 | 30,795.3 | 30,269.4 | 38.15K  | 525.9\n",
       "Jun 23, 2023 | 30,679.4 | 29,890.2 | 31,395.4 | 29,822.6 | 98.85K  | 1572.8\n",
       "Jun 22, 2023 | 29,890.5 | 29,992.8 | 30,497.8 | 29,590.4 | 79.22K  | 907.4\n",
       "Jun 21, 2023 | 29,996.9 | 28,307.7 | 30,769.5 | 28,270.5 | 143.49K | 2499\n",
       "Jun 20, 2023 | 28,307.7 | 26,845.9 | 28,393.0 | 26,665.5 | 100.55K | 1727.5\n",
       "Jun 19, 2023 | 26,845.9 | 26,339.7 | 27,029.7 | 26,295.1 | 46.45K  | 734.6\n",
       "Jun 18, 2023 | 26,339.7 | 26,515.0 | 26,679.3 | 26,290.6 | 27.31K  | 388.7\n",
       "Jun 17, 2023 | 26,515.0 | 26,341.3 | 26,767.3 | 26,183.5 | 35.86K  | 583.8\n",
       "... (22 rows omitted)"
      ]
     },
     "execution_count": 15,
     "metadata": {},
     "output_type": "execute_result"
    }
   ],
   "source": [
    "bcdata.with_column(\"daily change\",h-l)"
   ]
  },
  {
   "cell_type": "markdown",
   "id": "537e3efb",
   "metadata": {},
   "source": [
    "# Question 1\n",
    "\n",
    "Write a function that accepts a date as input and returns the corresponding day of the week for that specific date. You may need to import the date or time modules. For instance, if the input is June 29, 2023, the output should be Thursday."
   ]
  },
  {
   "cell_type": "code",
   "execution_count": 31,
   "id": "e07e5a26",
   "metadata": {},
   "outputs": [],
   "source": [
    "import datetime as dt\n",
    "def date_to_day_of_week(d):\n",
    "    '''Returns the day of the week from given date(formatted *month*, *day*, *year*)'''\n",
    "    d = d.replace(\",\", \"\")\n",
    "    l = d.split(\" \")\n",
    "    match l[0]:\n",
    "        case 'January':\n",
    "            month = 1\n",
    "        case 'Jan':\n",
    "            month = 1\n",
    "        case 'February':\n",
    "            month = 2\n",
    "        case 'Feb':\n",
    "            month = 2\n",
    "        case 'March':\n",
    "            month = 3\n",
    "        case 'Mar':\n",
    "            month = 3\n",
    "        case 'April':\n",
    "            month = 4\n",
    "        case 'Apr':\n",
    "            month = 4\n",
    "        case 'May':\n",
    "            month = 5\n",
    "        case 'June':\n",
    "            month = 6\n",
    "        case 'Jun':\n",
    "            month = 6\n",
    "        case 'July':\n",
    "            month = 7\n",
    "        case 'Jul':\n",
    "            month = 7\n",
    "        case 'August':\n",
    "            month = 8\n",
    "        case 'Aug':\n",
    "            month = 8\n",
    "        case 'September':\n",
    "            month = 9\n",
    "        case 'Sep':\n",
    "            month = 9\n",
    "        case 'October':\n",
    "            month = 10\n",
    "        case 'Oct':\n",
    "            month = 10\n",
    "        case 'November':\n",
    "            month = 11\n",
    "        case 'Nov':\n",
    "            month = 11\n",
    "        case 'December':\n",
    "            month = 12\n",
    "        case 'Dec':\n",
    "            month = 12\n",
    "        case _:\n",
    "            return \"month not recognized\"\n",
    "            \n",
    "    l[0] = month\n",
    "    \n",
    "    day_of_week = dt.date(int(l[2]), l[0], int(l[1])).weekday()\n",
    "    \n",
    "    match day_of_week:\n",
    "        case 0:\n",
    "            return 'Monday'\n",
    "        case 1:\n",
    "            return 'Tuesday'\n",
    "        case 2:\n",
    "            return 'Wednesday'\n",
    "        case 3:\n",
    "            return 'Thursday'\n",
    "        case 4:\n",
    "            return 'Friday'\n",
    "        case 5:\n",
    "            return 'Saturday'\n",
    "        case 6:\n",
    "            return 'Sunday'"
   ]
  },
  {
   "cell_type": "markdown",
   "id": "82b69f52",
   "metadata": {},
   "source": [
    "# Question 2\n",
    "Use the function from question 1 on the 'Date' column of the 'bcdata' table and store the result in a new column called 'weekday' in the 'bcdata' table. For instance, June 26, 2023 corresponds to 'Monday'."
   ]
  },
  {
   "cell_type": "code",
   "execution_count": 32,
   "id": "808bc102",
   "metadata": {},
   "outputs": [],
   "source": [
    "weekday = bcdata.apply(date_to_day_of_week, \"Date\")"
   ]
  },
  {
   "cell_type": "code",
   "execution_count": 33,
   "id": "130247d0",
   "metadata": {},
   "outputs": [
    {
     "data": {
      "text/html": [
       "<table border=\"1\" class=\"dataframe\">\n",
       "    <thead>\n",
       "        <tr>\n",
       "            <th>Date</th> <th>Price</th> <th>Open</th> <th>High</th> <th>Low</th> <th>Vol.</th> <th>weekday</th>\n",
       "        </tr>\n",
       "    </thead>\n",
       "    <tbody>\n",
       "        <tr>\n",
       "            <td>Jun 26, 2023</td> <td>30,248.1</td> <td>30,466.3</td> <td>30,645.9</td> <td>29,986.3</td> <td>58.32K </td> <td>Monday   </td>\n",
       "        </tr>\n",
       "        <tr>\n",
       "            <td>Jun 25, 2023</td> <td>30,465.3</td> <td>30,533.6</td> <td>31,040.2</td> <td>30,315.8</td> <td>37.12K </td> <td>Sunday   </td>\n",
       "        </tr>\n",
       "        <tr>\n",
       "            <td>Jun 24, 2023</td> <td>30,533.6</td> <td>30,680.7</td> <td>30,795.3</td> <td>30,269.4</td> <td>38.15K </td> <td>Saturday </td>\n",
       "        </tr>\n",
       "        <tr>\n",
       "            <td>Jun 23, 2023</td> <td>30,679.4</td> <td>29,890.2</td> <td>31,395.4</td> <td>29,822.6</td> <td>98.85K </td> <td>Friday   </td>\n",
       "        </tr>\n",
       "        <tr>\n",
       "            <td>Jun 22, 2023</td> <td>29,890.5</td> <td>29,992.8</td> <td>30,497.8</td> <td>29,590.4</td> <td>79.22K </td> <td>Thursday </td>\n",
       "        </tr>\n",
       "        <tr>\n",
       "            <td>Jun 21, 2023</td> <td>29,996.9</td> <td>28,307.7</td> <td>30,769.5</td> <td>28,270.5</td> <td>143.49K</td> <td>Wednesday</td>\n",
       "        </tr>\n",
       "        <tr>\n",
       "            <td>Jun 20, 2023</td> <td>28,307.7</td> <td>26,845.9</td> <td>28,393.0</td> <td>26,665.5</td> <td>100.55K</td> <td>Tuesday  </td>\n",
       "        </tr>\n",
       "        <tr>\n",
       "            <td>Jun 19, 2023</td> <td>26,845.9</td> <td>26,339.7</td> <td>27,029.7</td> <td>26,295.1</td> <td>46.45K </td> <td>Monday   </td>\n",
       "        </tr>\n",
       "        <tr>\n",
       "            <td>Jun 18, 2023</td> <td>26,339.7</td> <td>26,515.0</td> <td>26,679.3</td> <td>26,290.6</td> <td>27.31K </td> <td>Sunday   </td>\n",
       "        </tr>\n",
       "        <tr>\n",
       "            <td>Jun 17, 2023</td> <td>26,515.0</td> <td>26,341.3</td> <td>26,767.3</td> <td>26,183.5</td> <td>35.86K </td> <td>Saturday </td>\n",
       "        </tr>\n",
       "    </tbody>\n",
       "</table>\n",
       "<p>... (22 rows omitted)</p>"
      ],
      "text/plain": [
       "Date         | Price    | Open     | High     | Low      | Vol.    | weekday\n",
       "Jun 26, 2023 | 30,248.1 | 30,466.3 | 30,645.9 | 29,986.3 | 58.32K  | Monday\n",
       "Jun 25, 2023 | 30,465.3 | 30,533.6 | 31,040.2 | 30,315.8 | 37.12K  | Sunday\n",
       "Jun 24, 2023 | 30,533.6 | 30,680.7 | 30,795.3 | 30,269.4 | 38.15K  | Saturday\n",
       "Jun 23, 2023 | 30,679.4 | 29,890.2 | 31,395.4 | 29,822.6 | 98.85K  | Friday\n",
       "Jun 22, 2023 | 29,890.5 | 29,992.8 | 30,497.8 | 29,590.4 | 79.22K  | Thursday\n",
       "Jun 21, 2023 | 29,996.9 | 28,307.7 | 30,769.5 | 28,270.5 | 143.49K | Wednesday\n",
       "Jun 20, 2023 | 28,307.7 | 26,845.9 | 28,393.0 | 26,665.5 | 100.55K | Tuesday\n",
       "Jun 19, 2023 | 26,845.9 | 26,339.7 | 27,029.7 | 26,295.1 | 46.45K  | Monday\n",
       "Jun 18, 2023 | 26,339.7 | 26,515.0 | 26,679.3 | 26,290.6 | 27.31K  | Sunday\n",
       "Jun 17, 2023 | 26,515.0 | 26,341.3 | 26,767.3 | 26,183.5 | 35.86K  | Saturday\n",
       "... (22 rows omitted)"
      ]
     },
     "execution_count": 33,
     "metadata": {},
     "output_type": "execute_result"
    }
   ],
   "source": [
    "bcdata.with_column(\"weekday\", weekday)"
   ]
  }
 ],
 "metadata": {
  "kernelspec": {
   "display_name": "Python 3 (ipykernel)",
   "language": "python",
   "name": "python3"
  },
  "language_info": {
   "codemirror_mode": {
    "name": "ipython",
    "version": 3
   },
   "file_extension": ".py",
   "mimetype": "text/x-python",
   "name": "python",
   "nbconvert_exporter": "python",
   "pygments_lexer": "ipython3",
   "version": "3.10.11"
  }
 },
 "nbformat": 4,
 "nbformat_minor": 5
}
