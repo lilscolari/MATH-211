{
 "cells": [
  {
   "cell_type": "code",
   "execution_count": 1,
   "id": "10e552fd",
   "metadata": {
    "deletable": false,
    "editable": false
   },
   "outputs": [],
   "source": [
    "# Initialize Otter\n",
    "import otter\n",
    "grader = otter.Notebook(\"hw04.ipynb\")"
   ]
  },
  {
   "cell_type": "markdown",
   "id": "a7cccc53",
   "metadata": {},
   "source": [
    "# Homework 4: Functions, Tables, and Groups\n",
    "\n",
    "Please complete this notebook by filling in the cells provided. Before you begin, execute the previous cell to load the provided tests."
   ]
  },
  {
   "cell_type": "markdown",
   "id": "72c75fb0",
   "metadata": {},
   "source": [
    "**Helpful Resource:**\n",
    "- [Python Reference](http://data8.org/sp22/python-reference.html): Cheat sheet of helpful array & table methods used in Data 8!\n",
    "\n",
    "**Recommended Readings**: \n",
    "\n",
    "* [Visualizing Numerical Distributions](https://www.inferentialthinking.com/chapters/07/2/Visualizing_Numerical_Distributions.html)\n",
    "* [Functions and Tables](https://www.inferentialthinking.com/chapters/08/Functions_and_Tables.html)"
   ]
  },
  {
   "cell_type": "markdown",
   "id": "2f1e3fa6",
   "metadata": {},
   "source": [
    "Please complete this notebook by filling in the cells provided. Before you begin, execute the following cell to setup the notebook by importing some helpful libraries. Each time you start your server, you will need to execute this cell again.\n",
    "\n",
    "For all problems that you must write explanations and sentences for, you **must** provide your answer in the designated space. **Moreover, throughout this homework and all future ones, please be sure to not re-assign variables throughout the notebook!** For example, if you use `max_temperature` in your answer to one question, do not reassign it later on. Otherwise, you will fail tests that you thought you were passing previously!\n",
    "\n",
    "\n",
    "**Note: This homework has hidden tests on it. That means even though the tests may say 100% passed, it doesn't mean your final grade will be 100%. We will be running more tests for correctness once everyone turns in the homework.**\n",
    "\n",
    "\n",
    "Directly sharing answers is not okay, but discussing problems with the course staff or with other students is encouraged. \n",
    "\n",
    "You should start early so that you have time to get help if you're stuck."
   ]
  },
  {
   "cell_type": "markdown",
   "id": "b2547d07",
   "metadata": {},
   "source": [
    "## 1. Burrito-ful San Diego"
   ]
  },
  {
   "cell_type": "code",
   "execution_count": 2,
   "id": "d182bbac",
   "metadata": {
    "execution": {
     "iopub.execute_input": "2022-02-09T23:31:00.037069Z",
     "iopub.status.busy": "2022-02-09T23:31:00.035981Z",
     "iopub.status.idle": "2022-02-09T23:31:01.922106Z",
     "shell.execute_reply": "2022-02-09T23:31:01.921458Z"
    }
   },
   "outputs": [],
   "source": [
    "# Run this cell to set up the notebook, but please don't change it.\n",
    "\n",
    "# These lines import the Numpy and Datascience modules.\n",
    "import numpy as np\n",
    "from datascience import *\n",
    "import d8error\n",
    "\n",
    "# These lines do some fancy plotting magic.\n",
    "import matplotlib\n",
    "%matplotlib inline\n",
    "import matplotlib.pyplot as plt\n",
    "plt.style.use('fivethirtyeight')\n",
    "\n",
    "import warnings\n",
    "warnings.simplefilter('ignore', FutureWarning)\n",
    "warnings.filterwarnings(\"ignore\")"
   ]
  },
  {
   "cell_type": "markdown",
   "id": "bc4f28f4",
   "metadata": {},
   "source": [
    "Mira, Sofia, and Sara are trying to use Data Science to find the best burritos in San Diego! Their friends Jessica and Sonya provided them with two comprehensive datasets on many burrito establishments in the San Diego area taken from (and cleaned from): https://www.kaggle.com/srcole/burritos-in-san-diego/data"
   ]
  },
  {
   "cell_type": "markdown",
   "id": "9ef64b08",
   "metadata": {},
   "source": [
    "The following cell reads in a table called `ratings` which contains names of burrito restaurants, their Yelp rating, Google rating, as well as their overall rating. The `Overall` rating is not an average of the `Yelp` and `Google` ratings, but rather it is the overall rating of the customers that were surveyed in the study above.\n",
    "\n",
    "\n",
    "It also reads in a table called `burritos_types` which contains names of burrito restaurants, their menu items, and the cost of the respective menu item at the restaurant."
   ]
  },
  {
   "cell_type": "code",
   "execution_count": 3,
   "id": "d79719ef",
   "metadata": {
    "deletable": false,
    "editable": false,
    "execution": {
     "iopub.execute_input": "2022-02-09T23:31:01.928100Z",
     "iopub.status.busy": "2022-02-09T23:31:01.927584Z",
     "iopub.status.idle": "2022-02-09T23:31:01.943521Z",
     "shell.execute_reply": "2022-02-09T23:31:01.942918Z"
    }
   },
   "outputs": [
    {
     "data": {
      "text/html": [
       "<table border=\"1\" class=\"dataframe\">\n",
       "    <thead>\n",
       "        <tr>\n",
       "            <th>Name</th> <th>Yelp</th> <th>Google</th> <th>Overall</th>\n",
       "        </tr>\n",
       "    </thead>\n",
       "    <tbody>\n",
       "        <tr>\n",
       "            <td>Albertacos                </td> <td>3.5 </td> <td>3.9   </td> <td>3.45   </td>\n",
       "        </tr>\n",
       "        <tr>\n",
       "            <td>Burrito Factory           </td> <td>4.5 </td> <td>4.8   </td> <td>3.5    </td>\n",
       "        </tr>\n",
       "        <tr>\n",
       "            <td>Burros and Fries          </td> <td>3.5 </td> <td>4.1   </td> <td>3.575  </td>\n",
       "        </tr>\n",
       "        <tr>\n",
       "            <td>Caliente Mexican Food     </td> <td>3.5 </td> <td>4.4   </td> <td>3.25   </td>\n",
       "        </tr>\n",
       "        <tr>\n",
       "            <td>California Burrito Company</td> <td>3.5 </td> <td>4.4   </td> <td>3.2    </td>\n",
       "        </tr>\n",
       "    </tbody>\n",
       "</table>\n",
       "<p>... (77 rows omitted)</p>"
      ],
      "text/plain": [
       "<IPython.core.display.HTML object>"
      ]
     },
     "metadata": {},
     "output_type": "display_data"
    },
    {
     "data": {
      "text/html": [
       "<table border=\"1\" class=\"dataframe\">\n",
       "    <thead>\n",
       "        <tr>\n",
       "            <th>Name</th> <th>Menu_Item</th> <th>Cost</th>\n",
       "        </tr>\n",
       "    </thead>\n",
       "    <tbody>\n",
       "        <tr>\n",
       "            <td>Albertacos                                         </td> <td>California          </td> <td>5.7 </td>\n",
       "        </tr>\n",
       "        <tr>\n",
       "            <td>Albertacos                                         </td> <td>Carne Asada         </td> <td>5.25</td>\n",
       "        </tr>\n",
       "        <tr>\n",
       "            <td>Alberto's 623 N Escondido Blvd, Escondido, CA 92025</td> <td>Carne Asada         </td> <td>4.59</td>\n",
       "        </tr>\n",
       "        <tr>\n",
       "            <td>Burrito Box                                        </td> <td>Steak With Guacamole</td> <td>11.5</td>\n",
       "        </tr>\n",
       "        <tr>\n",
       "            <td>Burrito Factory                                    </td> <td>Steak Everything    </td> <td>7.35</td>\n",
       "        </tr>\n",
       "    </tbody>\n",
       "</table>\n",
       "<p>... (244 rows omitted)</p>"
      ],
      "text/plain": [
       "<IPython.core.display.HTML object>"
      ]
     },
     "metadata": {},
     "output_type": "display_data"
    }
   ],
   "source": [
    "# Just run this cell\n",
    "ratings = Table.read_table(\"ratings.csv\")\n",
    "ratings.show(5)\n",
    "burritos_types = Table.read_table(\"burritos_types.csv\").drop(0)\n",
    "burritos_types.show(5)"
   ]
  },
  {
   "cell_type": "markdown",
   "id": "68a83af2",
   "metadata": {},
   "source": [
    "**Question 1.** It would be easier if we could combine the information in both tables. Assign `burritos` to the result of joining the two tables together, so that we have a table with the ratings for every corresponding menu item from every restaurant. Each menu item has the same rating as the restaurant from which it is from. **(8 Points)**\n",
    "\n",
    "*Note:* It doesn't matter which table you put in as the argument to the table method, either order will work for the autograder tests.\n",
    "\n",
    "*Hint:* If you need help on using the `join` method, refer to the [Python Reference Sheet](http://data8.org/sp22/python-reference.html) or [Section 8.4](https://www.inferentialthinking.com/chapters/08/4/Joining_Tables_by_Columns.html) in the textbook.\n"
   ]
  },
  {
   "cell_type": "code",
   "execution_count": 6,
   "id": "4ec9ec8b",
   "metadata": {
    "execution": {
     "iopub.execute_input": "2022-02-09T23:31:01.959932Z",
     "iopub.status.busy": "2022-02-09T23:31:01.959318Z",
     "iopub.status.idle": "2022-02-09T23:31:01.963297Z",
     "shell.execute_reply": "2022-02-09T23:31:01.963775Z"
    },
    "scrolled": true,
    "tags": []
   },
   "outputs": [
    {
     "data": {
      "text/html": [
       "<table border=\"1\" class=\"dataframe\">\n",
       "    <thead>\n",
       "        <tr>\n",
       "            <th>Name</th> <th>Yelp</th> <th>Google</th> <th>Overall</th> <th>Menu_Item</th> <th>Cost</th>\n",
       "        </tr>\n",
       "    </thead>\n",
       "    <tbody>\n",
       "        <tr>\n",
       "            <td>Albertacos      </td> <td>3.5 </td> <td>3.9   </td> <td>3.45   </td> <td>California      </td> <td>5.7 </td>\n",
       "        </tr>\n",
       "        <tr>\n",
       "            <td>Albertacos      </td> <td>3.5 </td> <td>3.9   </td> <td>3.45   </td> <td>Carne Asada     </td> <td>5.25</td>\n",
       "        </tr>\n",
       "        <tr>\n",
       "            <td>Burrito Factory </td> <td>4.5 </td> <td>4.8   </td> <td>3.5    </td> <td>Steak Everything</td> <td>7.35</td>\n",
       "        </tr>\n",
       "        <tr>\n",
       "            <td>Burros and Fries</td> <td>3.5 </td> <td>4.1   </td> <td>3.575  </td> <td>California      </td> <td>7.19</td>\n",
       "        </tr>\n",
       "        <tr>\n",
       "            <td>Burros and Fries</td> <td>3.5 </td> <td>4.1   </td> <td>3.575  </td> <td>Carne Asada     </td> <td>6.89</td>\n",
       "        </tr>\n",
       "    </tbody>\n",
       "</table>\n",
       "<p>... (207 rows omitted)</p>"
      ],
      "text/plain": [
       "<IPython.core.display.HTML object>"
      ]
     },
     "metadata": {},
     "output_type": "display_data"
    }
   ],
   "source": [
    "burritos = ratings.join('Name', burritos_types)\n",
    "burritos.show(5)"
   ]
  },
  {
   "cell_type": "code",
   "execution_count": 7,
   "id": "ea105760",
   "metadata": {
    "deletable": false,
    "editable": false
   },
   "outputs": [
    {
     "data": {
      "text/html": [
       "<p><strong><pre style='display: inline;'>q1_1</pre></strong> passed! 🎉</p>"
      ],
      "text/plain": [
       "q1_1 results: All test cases passed!"
      ]
     },
     "execution_count": 7,
     "metadata": {},
     "output_type": "execute_result"
    }
   ],
   "source": [
    "grader.check(\"q1_1\")"
   ]
  },
  {
   "cell_type": "markdown",
   "id": "1011ccc5",
   "metadata": {},
   "source": [
    "<!-- BEGIN QUESTION -->\n",
    "\n",
    "**Question 2.** Let's look at how the Yelp scores compare to the Google scores in the `burritos` table. First, assign `yelp_and_google` to a table only containing the columns `Yelp` and `Google`. Then, make a scatter plot with Yelp scores on the x-axis and the Google scores on the y-axis. **(8 Points)**\n"
   ]
  },
  {
   "cell_type": "code",
   "execution_count": 14,
   "id": "7362d8a8",
   "metadata": {
    "execution": {
     "iopub.execute_input": "2022-02-09T23:31:02.034880Z",
     "iopub.status.busy": "2022-02-09T23:31:02.025456Z",
     "iopub.status.idle": "2022-02-09T23:31:02.310929Z",
     "shell.execute_reply": "2022-02-09T23:31:02.311354Z"
    },
    "tags": []
   },
   "outputs": [
    {
     "data": {
      "image/png": "[encoded data removed]",
      "text/plain": [
       "<Figure size 500x500 with 1 Axes>"
      ]
     },
     "metadata": {},
     "output_type": "display_data"
    }
   ],
   "source": [
    "yelp_and_google = burritos.select(\"Yelp\", \"Google\")\n",
    "yelp_and_google.scatter(\"Yelp\", \"Google\")\n",
    "\n",
    "# Don't change/edit/remove the following line.\n",
    "# To help you make conclusions, we have plotted a straight line on the graph (y=x).\n",
    "plt.plot(np.arange(2.5,5,.5), np.arange(2.5,5,.5));"
   ]
  },
  {
   "cell_type": "code",
   "execution_count": 11,
   "id": "582d1fc6",
   "metadata": {
    "deletable": false,
    "editable": false
   },
   "outputs": [
    {
     "data": {
      "text/html": [
       "<p><strong><pre style='display: inline;'>q1_2</pre></strong> passed! ✨</p>"
      ],
      "text/plain": [
       "q1_2 results: All test cases passed!"
      ]
     },
     "execution_count": 11,
     "metadata": {},
     "output_type": "execute_result"
    }
   ],
   "source": [
    "grader.check(\"q1_2\")"
   ]
  },
  {
   "cell_type": "markdown",
   "id": "a1ca8586",
   "metadata": {},
   "source": [
    "<!-- END QUESTION -->\n",
    "\n",
    "<!-- BEGIN QUESTION -->\n",
    "\n",
    "**Question 3.** Looking at the scatter plot you just made in Question 1.2, do you notice any pattern(s) (i.e. is one of the two types of scores consistently higher than the other one)? If so, describe them **briefly** in the cell below. **(8 Points)**\n"
   ]
  },
  {
   "cell_type": "markdown",
   "id": "2206cbc5",
   "metadata": {},
   "source": [
    "Yelp had only 20 ratings greater than or equal to 4.0 while Google had 26 ratings greater than or equal to 4.0. Yelp had two ratings at 2.5 while Google had no ratings anywhere near 2.5. The closest was at around 2.8. It appears as if Google is likely to have higher ratings than Yelp."
   ]
  },
  {
   "cell_type": "markdown",
   "id": "cec67bb0",
   "metadata": {},
   "source": [
    "<!-- END QUESTION -->\n",
    "\n",
    "Here's a refresher on how `.group` works! You can read how `.group` works in the [textbook](https://www.inferentialthinking.com/chapters/08/2/Classifying_by_One_Variable.html), or you can view the video below. The video resource was made by a past staff member, Divyesh Chotai!\n",
    "\n",
    "You can also use the [Table Functions Visualizer](http://data8.org/interactive_table_functions/) to get some more hands-on experience with the `.group` function."
   ]
  },
  {
   "cell_type": "code",
   "execution_count": 15,
   "id": "9b840c3e",
   "metadata": {
    "execution": {
     "iopub.execute_input": "2022-02-09T23:31:02.327225Z",
     "iopub.status.busy": "2022-02-09T23:31:02.326631Z",
     "iopub.status.idle": "2022-02-09T23:31:02.409619Z",
     "shell.execute_reply": "2022-02-09T23:31:02.409029Z"
    }
   },
   "outputs": [
    {
     "data": {
      "image/jpeg": "[encoded data removed]",
      "text/html": [
       "\n",
       "        <iframe\n",
       "            width=\"400\"\n",
       "            height=\"300\"\n",
       "            src=\"https://www.youtube.com/embed/HLoYTCUP0fc\"\n",
       "            frameborder=\"0\"\n",
       "            allowfullscreen\n",
       "            \n",
       "        ></iframe>\n",
       "        "
      ],
      "text/plain": [
       "<IPython.lib.display.YouTubeVideo at 0x7fd079c856c0>"
      ]
     },
     "execution_count": 15,
     "metadata": {},
     "output_type": "execute_result"
    }
   ],
   "source": [
    "from IPython.display import YouTubeVideo\n",
    "YouTubeVideo(\"HLoYTCUP0fc\")"
   ]
  },
  {
   "cell_type": "markdown",
   "id": "c9d2d7ba",
   "metadata": {},
   "source": [
    "**Question 4.** There are so many types of California burritos in the `burritos` table! Sara wants to know which type is the highest rated across all restaurants. For the sake of these questions, we are treating each menu item's rating the same as its respective restaurant's, as we do not have the rating of every single item at these restaurants. You do not need to worry about this fact, but we thought to mention it!\n",
    "\n",
    "Create a table with two columns: the first column include the names of the burritos and the second column should contain the average overall rating of that burrito across restaurants. **In your calculations, you should only compare burritos that contain the word \"California\".** For example, there are \"California\" burritos, \"California Breakfast\" burritos, \"California Surf And Turf\" burritos, etc. **(9 Points)**\n",
    "\n",
    "*Hint:* If multiple restaurants serve the \"California - Chicken\" burrito, what table method can we use to aggregate those together and find the average overall rating?\n",
    "\n",
    "*Note:* For reference, the staff solution only used one line. However, feel free to break up the solution into multiple lines and steps; just make sure you assign the final output table to `california_burritos`! \n"
   ]
  },
  {
   "cell_type": "code",
   "execution_count": 56,
   "id": "e4d81bde",
   "metadata": {
    "execution": {
     "iopub.execute_input": "2022-02-09T23:31:02.422246Z",
     "iopub.status.busy": "2022-02-09T23:31:02.415462Z",
     "iopub.status.idle": "2022-02-09T23:31:02.426042Z",
     "shell.execute_reply": "2022-02-09T23:31:02.425599Z"
    },
    "tags": []
   },
   "outputs": [
    {
     "data": {
      "text/html": [
       "<table border=\"1\" class=\"dataframe\">\n",
       "    <thead>\n",
       "        <tr>\n",
       "            <th>Name</th> <th>Overall Rating</th>\n",
       "        </tr>\n",
       "    </thead>\n",
       "    <tbody>\n",
       "        <tr>\n",
       "            <td>California                    </td> <td>3.5242        </td>\n",
       "        </tr>\n",
       "        <tr>\n",
       "            <td>California (Only Cheese)      </td> <td>4.1           </td>\n",
       "        </tr>\n",
       "        <tr>\n",
       "            <td>California + Guac + Sour Cream</td> <td>3.4           </td>\n",
       "        </tr>\n",
       "        <tr>\n",
       "            <td>California - Chicken          </td> <td>3.45839       </td>\n",
       "        </tr>\n",
       "        <tr>\n",
       "            <td>California - Pork Adobada     </td> <td>3.26429       </td>\n",
       "        </tr>\n",
       "        <tr>\n",
       "            <td>California - Steak            </td> <td>3.26429       </td>\n",
       "        </tr>\n",
       "        <tr>\n",
       "            <td>California Breakfast          </td> <td>2.75833       </td>\n",
       "        </tr>\n",
       "        <tr>\n",
       "            <td>California Chicken            </td> <td>3.54815       </td>\n",
       "        </tr>\n",
       "        <tr>\n",
       "            <td>California Chipotle           </td> <td>4.36667       </td>\n",
       "        </tr>\n",
       "        <tr>\n",
       "            <td>California Everything         </td> <td>4.1           </td>\n",
       "        </tr>\n",
       "    </tbody>\n",
       "</table>\n",
       "<p>... (9 rows omitted)</p>"
      ],
      "text/plain": [
       "Name                           | Overall Rating\n",
       "California                     | 3.5242\n",
       "California (Only Cheese)       | 4.1\n",
       "California + Guac + Sour Cream | 3.4\n",
       "California - Chicken           | 3.45839\n",
       "California - Pork Adobada      | 3.26429\n",
       "California - Steak             | 3.26429\n",
       "California Breakfast           | 2.75833\n",
       "California Chicken             | 3.54815\n",
       "California Chipotle            | 4.36667\n",
       "California Everything          | 4.1\n",
       "... (9 rows omitted)"
      ]
     },
     "execution_count": 56,
     "metadata": {},
     "output_type": "execute_result"
    }
   ],
   "source": [
    "california_burritos = Table().with_columns(\"Name\", burritos.where(\"Menu_Item\", are.containing(\"California\")).group(\"Menu_Item\", np.average).column(\"Menu_Item\"),                                         \n",
    "                                           \"Overall Rating\", burritos.where(\"Menu_Item\", are.containing(\"California\")).group(\"Menu_Item\", np.average).column(\"Overall average\")\n",
    "                                          )\n",
    "california_burritos"
   ]
  },
  {
   "cell_type": "code",
   "execution_count": 57,
   "id": "97927fca",
   "metadata": {
    "deletable": false,
    "editable": false
   },
   "outputs": [
    {
     "data": {
      "text/html": [
       "<p><strong><pre style='display: inline;'>q1_4</pre></strong> passed! 🎉</p>"
      ],
      "text/plain": [
       "q1_4 results: All test cases passed!"
      ]
     },
     "execution_count": 57,
     "metadata": {},
     "output_type": "execute_result"
    }
   ],
   "source": [
    "grader.check(\"q1_4\")"
   ]
  },
  {
   "cell_type": "markdown",
   "id": "585923ab",
   "metadata": {},
   "source": [
    "**Question 5.** Given this new table `california_burritos`, Sara can figure out the name of the California burrito with the highest overall average rating! Assign `best_california_burrito` to a line of code that outputs the string that represents the name of the California burrito with the highest overall average rating. If multiple burritos satisfy this criteria, you can output any one of them. **(8 Points)**\n"
   ]
  },
  {
   "cell_type": "code",
   "execution_count": 59,
   "id": "4ca94cd7",
   "metadata": {
    "execution": {
     "iopub.execute_input": "2022-02-09T23:31:02.459872Z",
     "iopub.status.busy": "2022-02-09T23:31:02.459142Z",
     "iopub.status.idle": "2022-02-09T23:31:02.463161Z",
     "shell.execute_reply": "2022-02-09T23:31:02.462693Z"
    },
    "tags": []
   },
   "outputs": [
    {
     "data": {
      "text/plain": [
       "'California Chipotle'"
      ]
     },
     "execution_count": 59,
     "metadata": {},
     "output_type": "execute_result"
    }
   ],
   "source": [
    "best_california_burrito = california_burritos.sort(\"Overall Rating\", descending=True).column(\"Name\").item(0)\n",
    "best_california_burrito"
   ]
  },
  {
   "cell_type": "code",
   "execution_count": 60,
   "id": "651a7410",
   "metadata": {
    "deletable": false,
    "editable": false
   },
   "outputs": [
    {
     "data": {
      "text/html": [
       "<p><strong><pre style='display: inline;'>q1_5</pre></strong> passed! 🍀</p>"
      ],
      "text/plain": [
       "q1_5 results: All test cases passed!"
      ]
     },
     "execution_count": 60,
     "metadata": {},
     "output_type": "execute_result"
    }
   ],
   "source": [
    "grader.check(\"q1_5\")"
   ]
  },
  {
   "cell_type": "markdown",
   "id": "59c72416",
   "metadata": {},
   "source": [
    "<!-- BEGIN QUESTION -->\n",
    "\n",
    "**Question 6.** Mira thinks that burritos in San Diego are cheaper (and taste better) than the burritos in Berkeley. Plot a histogram that visualizes that distribution of the costs of the burritos from San Diego in the `burritos` table. Also use the provided `bins` variable when making your histogram, so that the histogram is more visually informative. **(8 Points)**\n"
   ]
  },
  {
   "cell_type": "code",
   "execution_count": 67,
   "id": "e6363a88",
   "metadata": {
    "execution": {
     "iopub.execute_input": "2022-02-09T23:31:02.512551Z",
     "iopub.status.busy": "2022-02-09T23:31:02.496494Z",
     "iopub.status.idle": "2022-02-09T23:31:02.804389Z",
     "shell.execute_reply": "2022-02-09T23:31:02.805071Z"
    },
    "tags": []
   },
   "outputs": [
    {
     "data": {
      "image/png": "[encoded data removed]",
      "text/plain": [
       "<Figure size 600x400 with 1 Axes>"
      ]
     },
     "metadata": {},
     "output_type": "display_data"
    }
   ],
   "source": [
    "bins = np.arange(0, 15, 1)\n",
    "# Please also use the provided bins\n",
    "burritos.hist(\"Cost\", bins=bins, unit=\"$\")"
   ]
  },
  {
   "cell_type": "markdown",
   "id": "15dda98a",
   "metadata": {},
   "source": [
    "<!-- END QUESTION -->\n",
    "\n",
    "**Question 7.** What percentage of burritos in San Diego are less than $6? Assign `burritos_less_than_6` to your answer, which should be between 0 and 100. You should only use the histogram above to answer the question. Do not use code on the table to to find the answer, just eyeball the heights and use Python to evaluate your arithmetic! **(8 Points)**\n",
    "\n",
    "*Note*: Your answer does not have to be exact, but it should be within a couple percentages of the staff answer.\n"
   ]
  },
  {
   "cell_type": "code",
   "execution_count": 68,
   "id": "94da33e6",
   "metadata": {
    "execution": {
     "iopub.execute_input": "2022-02-09T23:31:02.811360Z",
     "iopub.status.busy": "2022-02-09T23:31:02.810599Z",
     "iopub.status.idle": "2022-02-09T23:31:02.813636Z",
     "shell.execute_reply": "2022-02-09T23:31:02.813033Z"
    },
    "tags": []
   },
   "outputs": [],
   "source": [
    "burritos_less_than_6 = 1 + 4 + 17"
   ]
  },
  {
   "cell_type": "code",
   "execution_count": 69,
   "id": "1a2feaf9",
   "metadata": {
    "deletable": false,
    "editable": false
   },
   "outputs": [
    {
     "data": {
      "text/html": [
       "<p><strong><pre style='display: inline;'>q1_7</pre></strong> passed! 🌟</p>"
      ],
      "text/plain": [
       "q1_7 results: All test cases passed!"
      ]
     },
     "execution_count": 69,
     "metadata": {},
     "output_type": "execute_result"
    }
   ],
   "source": [
    "grader.check(\"q1_7\")"
   ]
  },
  {
   "cell_type": "markdown",
   "id": "d588ff79",
   "metadata": {},
   "source": [
    "## 2. San Francisco City Employee Salaries"
   ]
  },
  {
   "cell_type": "markdown",
   "id": "8a9aafe0",
   "metadata": {},
   "source": [
    "This exercise is designed to give you practice with using the Table methods `.pivot` and `.group`. Here is a link to the [Python Reference Sheet](http://data8.org/sp22/python-reference.html) in case you need a quick refresher. The [Table Function Visualizer](http://data8.org/interactive_table_functions/) may also be a helpful tool.\n",
    "\n",
    "Run the cell below to view a demo on how you can use pivot on a table. (Thank you to past staff Divyesh Chotai!)"
   ]
  },
  {
   "cell_type": "code",
   "execution_count": 70,
   "id": "67de0f64",
   "metadata": {
    "execution": {
     "iopub.execute_input": "2022-02-09T23:31:02.851982Z",
     "iopub.status.busy": "2022-02-09T23:31:02.850982Z",
     "iopub.status.idle": "2022-02-09T23:31:02.883975Z",
     "shell.execute_reply": "2022-02-09T23:31:02.884604Z"
    },
    "scrolled": true
   },
   "outputs": [
    {
     "data": {
      "image/jpeg": "[encoded data removed]",
      "text/html": [
       "\n",
       "        <iframe\n",
       "            width=\"400\"\n",
       "            height=\"300\"\n",
       "            src=\"https://www.youtube.com/embed/4WzXo8eKLAg\"\n",
       "            frameborder=\"0\"\n",
       "            allowfullscreen\n",
       "            \n",
       "        ></iframe>\n",
       "        "
      ],
      "text/plain": [
       "<IPython.lib.display.YouTubeVideo at 0x7fd0718e53c0>"
      ]
     },
     "execution_count": 70,
     "metadata": {},
     "output_type": "execute_result"
    }
   ],
   "source": [
    "from IPython.display import YouTubeVideo\n",
    "YouTubeVideo(\"4WzXo8eKLAg\")"
   ]
  },
  {
   "cell_type": "markdown",
   "id": "15bea8b1",
   "metadata": {},
   "source": [
    "The data source we will use within this portion of the homework is [publicly provided](https://data.sfgov.org/City-Management-and-Ethics/Employee-Compensation/88g8-5mnd/data) by the City of San Francisco. We have filtered it to retain just the relevant columns and restricted the data to the calendar year 2019. Run the following cell to load our data into a table called `full_sf`."
   ]
  },
  {
   "cell_type": "code",
   "execution_count": 71,
   "id": "3a300669",
   "metadata": {
    "execution": {
     "iopub.execute_input": "2022-02-09T23:31:02.890915Z",
     "iopub.status.busy": "2022-02-09T23:31:02.890148Z",
     "iopub.status.idle": "2022-02-09T23:31:03.267690Z",
     "shell.execute_reply": "2022-02-09T23:31:03.267200Z"
    }
   },
   "outputs": [
    {
     "data": {
      "text/html": [
       "<table border=\"1\" class=\"dataframe\">\n",
       "    <thead>\n",
       "        <tr>\n",
       "            <th>Organization Group</th> <th>Department</th> <th>Job Family</th> <th>Job</th> <th>Salary</th> <th>Overtime</th> <th>Benefits</th> <th>Total Compensation</th>\n",
       "        </tr>\n",
       "    </thead>\n",
       "    <tbody>\n",
       "        <tr>\n",
       "            <td>Public Protection </td> <td>Adult Probation</td> <td>Information Systems</td> <td>IS Trainer-Journey           </td> <td>91332 </td> <td>0       </td> <td>40059   </td> <td>131391            </td>\n",
       "        </tr>\n",
       "        <tr>\n",
       "            <td>Public Protection </td> <td>Adult Probation</td> <td>Information Systems</td> <td>IS Engineer-Assistant        </td> <td>123241</td> <td>0       </td> <td>49279   </td> <td>172520            </td>\n",
       "        </tr>\n",
       "        <tr>\n",
       "            <td>Public Protection </td> <td>Adult Probation</td> <td>Information Systems</td> <td>IS Business Analyst-Senior   </td> <td>115715</td> <td>0       </td> <td>46752   </td> <td>162468            </td>\n",
       "        </tr>\n",
       "        <tr>\n",
       "            <td>Public Protection </td> <td>Adult Probation</td> <td>Information Systems</td> <td>IS Business Analyst-Principal</td> <td>159394</td> <td>0       </td> <td>57312   </td> <td>216706            </td>\n",
       "        </tr>\n",
       "        <tr>\n",
       "            <td>Public Protection </td> <td>Adult Probation</td> <td>Information Systems</td> <td>IS Programmer Analyst        </td> <td>70035 </td> <td>0       </td> <td>28671   </td> <td>98706             </td>\n",
       "        </tr>\n",
       "    </tbody>\n",
       "</table>\n",
       "<p>... (44520 rows omitted)</p>"
      ],
      "text/plain": [
       "<IPython.core.display.HTML object>"
      ]
     },
     "metadata": {},
     "output_type": "display_data"
    }
   ],
   "source": [
    "full_sf = Table.read_table(\"sf2019.csv\")\n",
    "full_sf.show(5)"
   ]
  },
  {
   "cell_type": "markdown",
   "id": "8651249a",
   "metadata": {},
   "source": [
    "The table has one row for each of the 44,525 San Francisco government employees in 2019.\n",
    "\n",
    "The first four columns describe the employee's job. For example, the employee in the third row of the table had a job called \"IS Business Analyst-Senior\". We will call this the employee's *position* or *job title*. The job was in a Job Family called Information Systems (hence the IS in the job title), and was in the Adult Probation Department that is part of the Public Protection Organization Group of the government. You will mostly be working with the `Job` column.\n",
    "\n",
    "The next three columns contain the dollar amounts paid to the employee in the calendar year 2019 for salary, overtime, and benefits. Note that an employee’s salary does not include their overtime earnings.\n",
    "\n",
    "The last column contains the total compensation paid to the employee. It is the sum of the previous three columns:\n",
    "\n",
    "$$\\text{Total Compensation} = \\text{Salary} + \\text{Overtime} + \\text{Benefits}$$\n",
    "\n",
    "For this homework, we will be using the following columns:\n",
    "1. `Organization Group`: A group of departments. For example, the **Public Protection** Org. Group includes departments such as the Police, Fire, Adult Protection, District Attorney, etc.\n",
    "2. `Department`: The primary organizational unit used by the City and County of San Francisco.\n",
    "3. `Job`: The specific position that a given worker fills.\n",
    "4. `Total Compensation`: The sum of a worker's salary, overtime, and benefits in 2019.\n",
    "\n",
    "\n",
    "Run the following cell to select the relevant columns and create a new table named `sf`."
   ]
  },
  {
   "cell_type": "code",
   "execution_count": 72,
   "id": "faa4c902",
   "metadata": {
    "execution": {
     "iopub.execute_input": "2022-02-09T23:31:03.292599Z",
     "iopub.status.busy": "2022-02-09T23:31:03.291702Z",
     "iopub.status.idle": "2022-02-09T23:31:03.363661Z",
     "shell.execute_reply": "2022-02-09T23:31:03.364134Z"
    }
   },
   "outputs": [
    {
     "data": {
      "text/html": [
       "<table border=\"1\" class=\"dataframe\">\n",
       "    <thead>\n",
       "        <tr>\n",
       "            <th>Job</th> <th>Department</th> <th>Organization Group</th> <th>Total Compensation</th>\n",
       "        </tr>\n",
       "    </thead>\n",
       "    <tbody>\n",
       "        <tr>\n",
       "            <td>IS Trainer-Journey           </td> <td>Adult Probation</td> <td>Public Protection </td> <td>131391            </td>\n",
       "        </tr>\n",
       "        <tr>\n",
       "            <td>IS Engineer-Assistant        </td> <td>Adult Probation</td> <td>Public Protection </td> <td>172520            </td>\n",
       "        </tr>\n",
       "        <tr>\n",
       "            <td>IS Business Analyst-Senior   </td> <td>Adult Probation</td> <td>Public Protection </td> <td>162468            </td>\n",
       "        </tr>\n",
       "        <tr>\n",
       "            <td>IS Business Analyst-Principal</td> <td>Adult Probation</td> <td>Public Protection </td> <td>216706            </td>\n",
       "        </tr>\n",
       "        <tr>\n",
       "            <td>IS Programmer Analyst        </td> <td>Adult Probation</td> <td>Public Protection </td> <td>98706             </td>\n",
       "        </tr>\n",
       "    </tbody>\n",
       "</table>\n",
       "<p>... (44520 rows omitted)</p>"
      ],
      "text/plain": [
       "<IPython.core.display.HTML object>"
      ]
     },
     "metadata": {},
     "output_type": "display_data"
    }
   ],
   "source": [
    "sf = full_sf.select(\"Job\", \"Department\", \"Organization Group\",  \"Total Compensation\")\n",
    "sf.show(5)"
   ]
  },
  {
   "cell_type": "markdown",
   "id": "0be41979",
   "metadata": {},
   "source": [
    "We want to use this table to generate arrays with the job titles of the members of each **Organization Group**."
   ]
  },
  {
   "cell_type": "markdown",
   "id": "85501c2b",
   "metadata": {},
   "source": [
    "**Question 1.** Set `job_titles` to a table with two columns. The first column should be called `Organization Group` and have the name of every \"Organization Group\" once, and the second column should be called `Jobs` with each row in that second column containing an *array* of the names of all the job titles within that \"Organization Group\". Don't worry if there are multiple of the same job titles. **(9 Points)**\n",
    "\n",
    "*Hint:* Think about how `group` works: it collects values into an array and then applies a function to that array. We have defined two functions below for you, and you will need to use one of them in your call to `group`. \n"
   ]
  },
  {
   "cell_type": "code",
   "execution_count": 84,
   "id": "af084603",
   "metadata": {
    "execution": {
     "iopub.execute_input": "2022-02-09T23:31:03.411336Z",
     "iopub.status.busy": "2022-02-09T23:31:03.371189Z",
     "iopub.status.idle": "2022-02-09T23:31:04.539757Z",
     "shell.execute_reply": "2022-02-09T23:31:04.539023Z"
    },
    "tags": []
   },
   "outputs": [
    {
     "data": {
      "text/html": [
       "<table border=\"1\" class=\"dataframe\">\n",
       "    <thead>\n",
       "        <tr>\n",
       "            <th>Organization Group</th> <th>Jobs</th>\n",
       "        </tr>\n",
       "    </thead>\n",
       "    <tbody>\n",
       "        <tr>\n",
       "            <td>Community Health                        </td> <td>['Painter Supervisor 1' 'Painter' 'Painter' ..., 'Nursin ...</td>\n",
       "        </tr>\n",
       "        <tr>\n",
       "            <td>Culture & Recreation                    </td> <td>['Electrician' 'Executive Secretary 2' 'Bldgs & Grounds  ...</td>\n",
       "        </tr>\n",
       "        <tr>\n",
       "            <td>General Administration & Finance        </td> <td>['Painter' 'Painter' 'Electrician' ..., 'Investigator, T ...</td>\n",
       "        </tr>\n",
       "        <tr>\n",
       "            <td>Human Welfare & Neighborhood Development</td> <td>['Dept Head I' 'Administrative Analyst' 'Community Devel ...</td>\n",
       "        </tr>\n",
       "        <tr>\n",
       "            <td>Public Protection                       </td> <td>['IS Trainer-Journey' 'IS Engineer-Assistant' 'IS Busine ...</td>\n",
       "        </tr>\n",
       "        <tr>\n",
       "            <td>Public Works, Transportation & Commerce </td> <td>['Heavy Equip Ops Asst Sprv' 'Heavy Equipment Ops Sprv'\n",
       " ...</td>\n",
       "        </tr>\n",
       "    </tbody>\n",
       "</table>"
      ],
      "text/plain": [
       "Organization Group                       | Jobs\n",
       "Community Health                         | ['Painter Supervisor 1' 'Painter' 'Painter' ..., 'Nursin ...\n",
       "Culture & Recreation                     | ['Electrician' 'Executive Secretary 2' 'Bldgs & Grounds  ...\n",
       "General Administration & Finance         | ['Painter' 'Painter' 'Electrician' ..., 'Investigator, T ...\n",
       "Human Welfare & Neighborhood Development | ['Dept Head I' 'Administrative Analyst' 'Community Devel ...\n",
       "Public Protection                        | ['IS Trainer-Journey' 'IS Engineer-Assistant' 'IS Busine ...\n",
       "Public Works, Transportation & Commerce  | ['Heavy Equip Ops Asst Sprv' 'Heavy Equipment Ops Sprv'\n",
       " ..."
      ]
     },
     "execution_count": 84,
     "metadata": {},
     "output_type": "execute_result"
    }
   ],
   "source": [
    "# Pick one of the two functions defined below in your call to group.\n",
    "def first_item(array):\n",
    "    '''Returns the first item'''\n",
    "    return array.item(0)\n",
    "\n",
    "def full_array(array):\n",
    "    '''Returns the array that is passed through'''\n",
    "    return array \n",
    "\n",
    "# Make a call to group using one of the functions above when you define job_titles\n",
    "job_titles = Table().with_columns(\"Organization Group\", sf.group(\"Organization Group\").column(\"Organization Group\"),\n",
    "                                  \"Jobs\", sf.group(\"Organization Group\", full_array).column(\"Job full_array\")\n",
    "                                 )\n",
    "job_titles"
   ]
  },
  {
   "cell_type": "code",
   "execution_count": 85,
   "id": "5b2393a1",
   "metadata": {
    "deletable": false,
    "editable": false
   },
   "outputs": [
    {
     "data": {
      "text/html": [
       "<p><strong><pre style='display: inline;'>q2_1</pre></strong> passed! 🌈</p>"
      ],
      "text/plain": [
       "q2_1 results: All test cases passed!"
      ]
     },
     "execution_count": 85,
     "metadata": {},
     "output_type": "execute_result"
    }
   ],
   "source": [
    "grader.check(\"q2_1\")"
   ]
  },
  {
   "cell_type": "markdown",
   "id": "391509f8",
   "metadata": {},
   "source": [
    "#### Understanding the code you just wrote in 2.1 is important for moving forward with the class! If you made a lucky guess, take some time to look at the code, step by step. Office hours is always a great resource!"
   ]
  },
  {
   "cell_type": "markdown",
   "id": "8b775643",
   "metadata": {},
   "source": [
    "<!-- BEGIN QUESTION -->\n",
    "\n",
    "**Question 2.** At the moment, the `Job` column of the `sf` table is not sorted (no particular order). Would the arrays you generated in the `Jobs` column of the previous question be the same if we had sorted alphabetically instead before generating them? Explain your answer. To receive full credit, your answer should reference *how* the `.group` method works, and how sorting the `Jobs` column would affect this.  **(8 Points)**\n",
    "\n",
    "*Note:* Two arrays are the **same** if they contain the same number of elements and the elements located at corresponding indexes in the two arrays are identical. An example of arrays that are NOT the same: `array([1,2]) != array([2,1])`.\n"
   ]
  },
  {
   "cell_type": "markdown",
   "id": "d3ec4436",
   "metadata": {},
   "source": [
    "If we sorted the \"Job\" column from sf in alphabetical order, the arrays generated in the \"Jobs\" column of the previous question would be different. This is because we used the .group() and full_array methods on \"Organization Group\", which take every \"Job\" title from the \"Job\" column and place them into an array. Because the .group() function starts at the first row and continues downward, if the \"Job\" column was sorted alphabetically before the .group() method was called, then the arrays would be in a different order."
   ]
  },
  {
   "cell_type": "markdown",
   "id": "a6bef925",
   "metadata": {},
   "source": [
    "<!-- END QUESTION -->\n",
    "\n",
    "**Question 3.** Set `department_ranges` to a table containing departments as the rows, and the organization groups as the columns. The values in the rows should correspond to a total compensation range, where range is defined as the **difference between the highest total compensation and the lowest total compensation in the department for that organization group**. **(9 Points)**\n",
    "\n",
    "*Hint 1:* First you'll need to define a new function `compensation_range` which takes in an array of compensations and returns the range of compensations in that array.\n",
    "\n",
    "*Hint 2:* What table function allows you to specify the rows and columns of a new table? You probably watched a video on it earlier in the homework!\n"
   ]
  },
  {
   "cell_type": "code",
   "execution_count": 107,
   "id": "342544e4",
   "metadata": {
    "execution": {
     "iopub.execute_input": "2022-02-09T23:31:04.624724Z",
     "iopub.status.busy": "2022-02-09T23:31:04.623799Z",
     "iopub.status.idle": "2022-02-09T23:31:06.218133Z",
     "shell.execute_reply": "2022-02-09T23:31:06.218746Z"
    },
    "tags": []
   },
   "outputs": [
    {
     "data": {
      "text/html": [
       "<table border=\"1\" class=\"dataframe\">\n",
       "    <thead>\n",
       "        <tr>\n",
       "            <th>Department</th> <th>Community Health</th> <th>Culture & Recreation</th> <th>General Administration & Finance</th> <th>Human Welfare & Neighborhood Development</th> <th>Public Protection</th> <th>Public Works, Transportation & Commerce</th>\n",
       "        </tr>\n",
       "    </thead>\n",
       "    <tbody>\n",
       "        <tr>\n",
       "            <td>Academy Of Sciences    </td> <td>0               </td> <td>199121              </td> <td>0                               </td> <td>0                                       </td> <td>0                </td> <td>0                                      </td>\n",
       "        </tr>\n",
       "        <tr>\n",
       "            <td>Administrative Services</td> <td>0               </td> <td>0                   </td> <td>478784                          </td> <td>0                                       </td> <td>0                </td> <td>0                                      </td>\n",
       "        </tr>\n",
       "        <tr>\n",
       "            <td>Adult Probation        </td> <td>0               </td> <td>0                   </td> <td>0                               </td> <td>0                                       </td> <td>303419           </td> <td>0                                      </td>\n",
       "        </tr>\n",
       "        <tr>\n",
       "            <td>Airport Commission     </td> <td>0               </td> <td>0                   </td> <td>0                               </td> <td>0                                       </td> <td>0                </td> <td>445092                                 </td>\n",
       "        </tr>\n",
       "        <tr>\n",
       "            <td>Art Commission         </td> <td>0               </td> <td>251823              </td> <td>0                               </td> <td>0                                       </td> <td>0                </td> <td>0                                      </td>\n",
       "        </tr>\n",
       "        <tr>\n",
       "            <td>Asian Art Museum       </td> <td>0               </td> <td>298230              </td> <td>0                               </td> <td>0                                       </td> <td>0                </td> <td>0                                      </td>\n",
       "        </tr>\n",
       "        <tr>\n",
       "            <td>Assessor               </td> <td>0               </td> <td>0                   </td> <td>277385                          </td> <td>0                                       </td> <td>0                </td> <td>0                                      </td>\n",
       "        </tr>\n",
       "        <tr>\n",
       "            <td>Board Of Appeals       </td> <td>0               </td> <td>0                   </td> <td>0                               </td> <td>0                                       </td> <td>0                </td> <td>243582                                 </td>\n",
       "        </tr>\n",
       "        <tr>\n",
       "            <td>Board Of Supervisors   </td> <td>0               </td> <td>0                   </td> <td>293773                          </td> <td>0                                       </td> <td>0                </td> <td>0                                      </td>\n",
       "        </tr>\n",
       "        <tr>\n",
       "            <td>Building Inspection    </td> <td>0               </td> <td>0                   </td> <td>0                               </td> <td>0                                       </td> <td>0                </td> <td>340852                                 </td>\n",
       "        </tr>\n",
       "    </tbody>\n",
       "</table>\n",
       "<p>... (41 rows omitted)</p>"
      ],
      "text/plain": [
       "Department              | Community Health | Culture & Recreation | General Administration & Finance | Human Welfare & Neighborhood Development | Public Protection | Public Works, Transportation & Commerce\n",
       "Academy Of Sciences     | 0                | 199121               | 0                                | 0                                        | 0                 | 0\n",
       "Administrative Services | 0                | 0                    | 478784                           | 0                                        | 0                 | 0\n",
       "Adult Probation         | 0                | 0                    | 0                                | 0                                        | 303419            | 0\n",
       "Airport Commission      | 0                | 0                    | 0                                | 0                                        | 0                 | 445092\n",
       "Art Commission          | 0                | 251823               | 0                                | 0                                        | 0                 | 0\n",
       "Asian Art Museum        | 0                | 298230               | 0                                | 0                                        | 0                 | 0\n",
       "Assessor                | 0                | 0                    | 277385                           | 0                                        | 0                 | 0\n",
       "Board Of Appeals        | 0                | 0                    | 0                                | 0                                        | 0                 | 243582\n",
       "Board Of Supervisors    | 0                | 0                    | 293773                           | 0                                        | 0                 | 0\n",
       "Building Inspection     | 0                | 0                    | 0                                | 0                                        | 0                 | 340852\n",
       "... (41 rows omitted)"
      ]
     },
     "execution_count": 107,
     "metadata": {},
     "output_type": "execute_result"
    }
   ],
   "source": [
    "# Define compensation_range first\n",
    "def compensation_range(a):\n",
    "    return max(a) - min(a)\n",
    "\n",
    "department_ranges = sf.pivot(\"Organization Group\", \"Department\", \"Total Compensation\", compensation_range)\n",
    "department_ranges"
   ]
  },
  {
   "cell_type": "code",
   "execution_count": 108,
   "id": "9fc8b4dd",
   "metadata": {
    "deletable": false,
    "editable": false
   },
   "outputs": [
    {
     "data": {
      "text/html": [
       "<p><strong><pre style='display: inline;'>q2_3</pre></strong> passed! 🎉</p>"
      ],
      "text/plain": [
       "q2_3 results: All test cases passed!"
      ]
     },
     "execution_count": 108,
     "metadata": {},
     "output_type": "execute_result"
    }
   ],
   "source": [
    "grader.check(\"q2_3\")"
   ]
  },
  {
   "cell_type": "markdown",
   "id": "df5a7779",
   "metadata": {},
   "source": [
    "<!-- BEGIN QUESTION -->\n",
    "\n",
    "**Question 4.** Give an explanation as to why some of the row values are `0` in the `department_ranges` table from the previous question. **(8 Points)**\n"
   ]
  },
  {
   "cell_type": "markdown",
   "id": "7b1ccb9e",
   "metadata": {},
   "source": [
    "Some of the row values are 0 because certain departments are not a part of certain organization groups, so there is no data to be collected."
   ]
  },
  {
   "cell_type": "markdown",
   "id": "d4685424",
   "metadata": {},
   "source": [
    "<!-- END QUESTION -->\n",
    "\n",
    "**Question 5.** Find the number of departments appearing in the `sf` table that have an average total compensation of greater than 125,000 dollars; assign this value to the variable `num_over_125k`. **(9 Points)**\n",
    "\n",
    "*Hint:* The variable names provided are meant to help guide the intermediate steps and general thought process. Feel free to delete them if you'd prefer to start from scratch, but make sure your final answer is assigned to `num_over_125k`!\n"
   ]
  },
  {
   "cell_type": "code",
   "execution_count": 117,
   "id": "00d0c00c",
   "metadata": {
    "execution": {
     "iopub.execute_input": "2022-02-09T23:31:06.295690Z",
     "iopub.status.busy": "2022-02-09T23:31:06.294760Z",
     "iopub.status.idle": "2022-02-09T23:31:07.380145Z",
     "shell.execute_reply": "2022-02-09T23:31:07.379724Z"
    },
    "tags": []
   },
   "outputs": [
    {
     "data": {
      "text/plain": [
       "23"
      ]
     },
     "execution_count": 117,
     "metadata": {},
     "output_type": "execute_result"
    }
   ],
   "source": [
    "num_over_125k = len([num for num in sf.group(\"Department\", np.average).column(\"Total Compensation average\") if num > 125000])\n",
    "num_over_125k"
   ]
  },
  {
   "cell_type": "code",
   "execution_count": 118,
   "id": "5593ba3f",
   "metadata": {
    "deletable": false,
    "editable": false
   },
   "outputs": [
    {
     "data": {
      "text/html": [
       "<p><strong><pre style='display: inline;'>q2_5</pre></strong> passed! 🚀</p>"
      ],
      "text/plain": [
       "q2_5 results: All test cases passed!"
      ]
     },
     "execution_count": 118,
     "metadata": {},
     "output_type": "execute_result"
    }
   ],
   "source": [
    "grader.check(\"q2_5\")"
   ]
  },
  {
   "cell_type": "markdown",
   "id": "0a21df8e",
   "metadata": {},
   "source": [
    "You're done with Homework 4!  \n",
    "\n",
    "**Important submission steps:** \n",
    "1. Run the tests and verify that they all pass.\n",
    "2. Choose **Save Notebook** from the **File** menu, then **run the final cell**. \n",
    "3. Click the link to download the zip file.\n",
    "4. Then submit the zip file to the corresponding assignment according to your instructor's directions. \n",
    "\n",
    "**It is your responsibility to make sure your work is saved before running the last cell.**"
   ]
  },
  {
   "cell_type": "markdown",
   "id": "fbf57851",
   "metadata": {
    "deletable": false,
    "editable": false
   },
   "source": [
    "## Submission\n",
    "\n",
    "Make sure you have run all cells in your notebook in order before running the cell below, so that all images/graphs appear in the output. The cell below will generate a zip file for you to submit. **Please save before exporting!**"
   ]
  },
  {
   "cell_type": "code",
   "execution_count": 120,
   "id": "30d6516f",
   "metadata": {
    "deletable": false,
    "editable": false
   },
   "outputs": [
    {
     "name": "stdout",
     "output_type": "stream",
     "text": [
      "Running your submission against local test cases...\n",
      "\n",
      "\n",
      "\n",
      "Your submission received the following results when run against available test cases:\n",
      "\n",
      "    q1_1 results: All test cases passed!\n",
      "\n",
      "    q1_2 results: All test cases passed!\n",
      "\n",
      "    q1_4 results: All test cases passed!\n",
      "\n",
      "    q1_5 results: All test cases passed!\n",
      "\n",
      "    q1_7 results: All test cases passed!\n",
      "\n",
      "    q2_1 results: All test cases passed!\n",
      "\n",
      "    q2_3 results: All test cases passed!\n",
      "\n",
      "    q2_5 results: All test cases passed!\n"
     ]
    },
    {
     "data": {
      "text/html": [
       "\n",
       "            <p>Your submission has been exported. Click <a href=\"hw04_2023_07_04T01_11_15_018264.zip\" download=\"hw04_2023_07_04T01_11_15_018264.zip\" target=\"_blank\">here</a>\n",
       "            to download the zip file.</p>\n",
       "            "
      ],
      "text/plain": [
       "<IPython.core.display.HTML object>"
      ]
     },
     "metadata": {},
     "output_type": "display_data"
    }
   ],
   "source": [
    "# Save your notebook first, then run this cell to export your submission.\n",
    "grader.export(pdf=False, run_tests=True)"
   ]
  },
  {
   "cell_type": "markdown",
   "id": "ce56e49c",
   "metadata": {},
   "source": [
    " "
   ]
  }
 ],
 "metadata": {
  "kernelspec": {
   "display_name": "Python 3 (ipykernel)",
   "language": "python",
   "name": "python3"
  },
  "language_info": {
   "codemirror_mode": {
    "name": "ipython",
    "version": 3
   },
   "file_extension": ".py",
   "mimetype": "text/x-python",
   "name": "python",
   "nbconvert_exporter": "python",
   "pygments_lexer": "ipython3",
   "version": "3.10.11"
  },
  "otter": {
   "OK_FORMAT": true,
   "tests": {
    "q1_1": {
     "name": "q1_1",
     "points": [
      0,
      0
     ],
     "suites": [
      {
       "cases": [
        {
         "code": ">>> # Make sure you have all the columns from both tables\n>>> set([\"Name\", \"Menu_Item\", \"Yelp\", \"Google\", \"Overall\", \"Cost\"]) == set(burritos.labels)\nTrue",
         "hidden": false,
         "locked": false
        },
        {
         "code": ">>> burritos.num_rows == 212\nTrue",
         "hidden": false,
         "locked": false
        }
       ],
       "scored": true,
       "setup": "",
       "teardown": "",
       "type": "doctest"
      }
     ]
    },
    "q1_2": {
     "name": "q1_2",
     "points": null,
     "suites": [
      {
       "cases": [
        {
         "code": ">>> # Make sure you are using the correct table! \n>>> yelp_and_google.num_rows == 212\nTrue",
         "hidden": false,
         "locked": false
        }
       ],
       "scored": true,
       "setup": "",
       "teardown": "",
       "type": "doctest"
      }
     ]
    },
    "q1_4": {
     "name": "q1_4",
     "points": [
      1,
      1
     ],
     "suites": [
      {
       "cases": [
        {
         "code": ">>> # Number of columns should be 2\n>>> california_burritos.num_columns == 2\nTrue",
         "hidden": false,
         "locked": false
        },
        {
         "code": ">>> # Number of rows should be 19\n>>> california_burritos.num_rows == 19\nTrue",
         "hidden": false,
         "locked": false
        }
       ],
       "scored": true,
       "setup": "",
       "teardown": "",
       "type": "doctest"
      }
     ]
    },
    "q1_5": {
     "name": "q1_5",
     "points": [
      0
     ],
     "suites": [
      {
       "cases": [
        {
         "code": ">>> # Your answer should be a string\n>>> type(best_california_burrito) == str\nTrue",
         "hidden": false,
         "locked": false
        }
       ],
       "scored": true,
       "setup": "",
       "teardown": "",
       "type": "doctest"
      }
     ]
    },
    "q1_7": {
     "name": "q1_7",
     "points": [
      0
     ],
     "suites": [
      {
       "cases": [
        {
         "code": ">>> # Your answer should be between 0 and 100.\n>>> 0 <= burritos_less_than_6 <= 100\nTrue",
         "hidden": false,
         "locked": false
        }
       ],
       "scored": true,
       "setup": "",
       "teardown": "",
       "type": "doctest"
      }
     ]
    },
    "q2_1": {
     "name": "q2_1",
     "points": [
      0,
      0,
      0,
      0
     ],
     "suites": [
      {
       "cases": [
        {
         "code": ">>> job_titles.num_columns\n2",
         "hidden": false,
         "locked": false
        },
        {
         "code": ">>> job_titles.num_rows\n6",
         "hidden": false,
         "locked": false
        },
        {
         "code": ">>> # Make sure that you have the correct column labels!\n>>> np.asarray(job_titles.labels).item(1) != \"Job full_array\"\nTrue",
         "hidden": false,
         "locked": false
        },
        {
         "code": ">>> # Make sure that you have the correct column labels!\n>>> np.asarray(job_titles.labels).item(1) == \"Jobs\"\nTrue",
         "hidden": false,
         "locked": false
        }
       ],
       "scored": true,
       "setup": "",
       "teardown": "",
       "type": "doctest"
      }
     ]
    },
    "q2_3": {
     "name": "q2_3",
     "points": [
      0,
      0,
      2
     ],
     "suites": [
      {
       "cases": [
        {
         "code": ">>> # Double check that your salary_range function is correct\n>>> compensation_range(make_array(5, 1, 20, 1000)) == 999\nTrue",
         "hidden": false,
         "locked": false
        },
        {
         "code": ">>> # Make sure that the table has departments as the rows and organization groups as the columns.\n>>> set([\"Department\", \"Community Health\", \"Culture & Recreation\", \"General Administration & Finance\", \"Human Welfare & Neighborhood Development\", \"Public Protection\", \"Public Works, Transportation & Commerce\"]) == set(department_ranges.labels)\nTrue",
         "hidden": false,
         "locked": false
        },
        {
         "code": ">>> sum(department_ranges.column(1))\n554179.0",
         "hidden": false,
         "locked": false
        }
       ],
       "scored": true,
       "setup": "",
       "teardown": "",
       "type": "doctest"
      }
     ]
    },
    "q2_5": {
     "name": "q2_5",
     "points": [
      2,
      2
     ],
     "suites": [
      {
       "cases": [
        {
         "code": ">>> # Make sure that your final answer is a number\n>>> isinstance(num_over_125k, int)\nTrue",
         "hidden": false,
         "locked": false
        },
        {
         "code": ">>> # Make sure that your answer makes sense given the sf table\n>>> 0 <= num_over_125k <= 51\nTrue",
         "hidden": false,
         "locked": false
        }
       ],
       "scored": true,
       "setup": "",
       "teardown": "",
       "type": "doctest"
      }
     ]
    }
   }
  }
 },
 "nbformat": 4,
 "nbformat_minor": 5
}
